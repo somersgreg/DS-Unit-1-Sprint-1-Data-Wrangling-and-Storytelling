{
 "cells": [
  {
   "cell_type": "markdown",
   "metadata": {},
   "source": [
    "## Autograded Notebook (Canvas & CodeGrade)\n",
    "\n",
    "This notebook will be automatically graded. It is designed to test your answers and award points for the correct answers. Following the instructions for each Task carefully.\n",
    "\n",
    "### Instructions\n",
    "\n",
    "* **Download this notebook** as you would any other ipynb file\n",
    "* **Upload** to Google Colab or work locally (if you have that set-up)\n",
    "* **Delete `raise NotImplementedError()`**\n",
    "* Write your code in the `# YOUR CODE HERE` space\n",
    "* **Execute** the Test cells that contain `assert` statements - these help you check your work (others contain hidden tests that will be checked when you submit through Canvas)\n",
    "* **Save** your notebook when you are finished\n",
    "* **Download** as a `ipynb` file (if working in Colab)\n",
    "* **Upload** your complete notebook to Canvas (there will be additional instructions in Slack and/or Canvas)"
   ]
  },
  {
   "cell_type": "markdown",
   "metadata": {
    "id": "Ldr0HZ193GKb"
   },
   "source": [
    "# Lambda School Data Science - Unit 1 Sprint 1 Module 1\n",
    "\n",
    "## Exploratory Data Analysis\n",
    "\n",
    "### Module Learning Objectives\n",
    "\n",
    "\n",
    "- Load a CSV dataset from a URL using `pandas.read_csv`\n",
    "- Load a CSV dataset from a local file using `pandas.read_csv\n",
    "- Use basic Pandas functions for Exploratory Data Analysis-EDA\n",
    "- Describe and discriminate between basic data types such as categorical, quantitative, continuous, discrete, ordinal, nominal and identifier\n",
    "\n",
    "### Notebook points: 12"
   ]
  },
  {
   "cell_type": "markdown",
   "metadata": {
    "id": "jFscSILVLZit"
   },
   "source": [
    "## Autograded Module Projects\n",
    "\n",
    "Welcome to the first Module Project of Unit 1! You will complete a project (sometimes also referred to as an assignment) after the Guided Project for each Module. There will be four Module Projects per Sprint and each project is designed to provide you with an opportunity to practice what you learned in the Canvas Warm-up material and the Guided Project with your Instructors.\n",
    "\n",
    "Throughout Unit 1, the Module Projects and the Sprint Challenges are *autograded*. You will complete your work in a Jupyter/Python notebook (the files that end with `.ipynb`) and then upload your completed notebook to Canvas and submit for grading. This autograding process will check your answers and provide more information about the errors in your notebook. You'll receive a score when the testing is complete.\n",
    "\n",
    "So, let's get started! If you are reading this notebook, then you have the correct autograded version."
   ]
  },
  {
   "cell_type": "markdown",
   "metadata": {
    "id": "2CkckTc6-txA"
   },
   "source": [
    "## Introduction\n",
    "\n",
    "For this module, we learned how to use some of the most common tools for exploring our data. We'll continue to practice our `pandas` skills with a new dataset. \n",
    "\n",
    "## Dataset Description\n",
    "\n",
    "Explore the University of California - Irvine Adult Dataset"
   ]
  },
  {
   "cell_type": "markdown",
   "metadata": {
    "id": "dd7NLO359fux"
   },
   "source": [
    "**Task 1** - Load a dataset via its URL\n",
    "\n",
    "* Create a Python list named `column_headers` with the following items: `'age', 'workclass', 'fnlwgt', 'education', 'education-num', 'marital-status', 'occupation', 'relationship', 'race', 'sex', 'capital-gain', 'capital-loss', 'hours-per-week','native-country', 'income'`.  Lists have the form `listname = ['element 1', 'element 2', element 3']`\n",
    "* Load the file from the URL provided below using the `column_headers` list you created to name your columns: set the `pd.read_csv()` to `column_headers` using `names =`.  \n",
    "* Name the DataFrame `adult`"
   ]
  },
  {
   "cell_type": "code",
   "execution_count": 1,
   "metadata": {
    "colab": {
     "base_uri": "https://localhost:8080/",
     "height": 197
    },
    "deletable": false,
    "id": "0M6HGqld9Azy",
    "nbgrader": {
     "cell_type": "code",
     "checksum": "a3b944c912f2fd93474f840cad050d9c",
     "grade": false,
     "grade_id": "cell-8a338d1f29fadeee",
     "locked": false,
     "schema_version": 3,
     "solution": true,
     "task": false
    },
    "outputId": "699a29b1-f7e9-4de4-fdb3-dc100f15239f"
   },
   "outputs": [
    {
     "output_type": "execute_result",
     "data": {
      "text/plain": [
       "   age          workclass  fnlwgt   education  education-num  \\\n",
       "0   39          State-gov   77516   Bachelors             13   \n",
       "1   50   Self-emp-not-inc   83311   Bachelors             13   \n",
       "2   38            Private  215646     HS-grad              9   \n",
       "3   53            Private  234721        11th              7   \n",
       "4   28            Private  338409   Bachelors             13   \n",
       "\n",
       "        marital-status          occupation    relationship    race      sex  \\\n",
       "0        Never-married        Adm-clerical   Not-in-family   White     Male   \n",
       "1   Married-civ-spouse     Exec-managerial         Husband   White     Male   \n",
       "2             Divorced   Handlers-cleaners   Not-in-family   White     Male   \n",
       "3   Married-civ-spouse   Handlers-cleaners         Husband   Black     Male   \n",
       "4   Married-civ-spouse      Prof-specialty            Wife   Black   Female   \n",
       "\n",
       "   capital-gain  capital-loss  hours-per-week  native-country  income  \n",
       "0          2174             0              40   United-States   <=50K  \n",
       "1             0             0              13   United-States   <=50K  \n",
       "2             0             0              40   United-States   <=50K  \n",
       "3             0             0              40   United-States   <=50K  \n",
       "4             0             0              40            Cuba   <=50K  "
      ],
      "text/html": "<div>\n<style scoped>\n    .dataframe tbody tr th:only-of-type {\n        vertical-align: middle;\n    }\n\n    .dataframe tbody tr th {\n        vertical-align: top;\n    }\n\n    .dataframe thead th {\n        text-align: right;\n    }\n</style>\n<table border=\"1\" class=\"dataframe\">\n  <thead>\n    <tr style=\"text-align: right;\">\n      <th></th>\n      <th>age</th>\n      <th>workclass</th>\n      <th>fnlwgt</th>\n      <th>education</th>\n      <th>education-num</th>\n      <th>marital-status</th>\n      <th>occupation</th>\n      <th>relationship</th>\n      <th>race</th>\n      <th>sex</th>\n      <th>capital-gain</th>\n      <th>capital-loss</th>\n      <th>hours-per-week</th>\n      <th>native-country</th>\n      <th>income</th>\n    </tr>\n  </thead>\n  <tbody>\n    <tr>\n      <th>0</th>\n      <td>39</td>\n      <td>State-gov</td>\n      <td>77516</td>\n      <td>Bachelors</td>\n      <td>13</td>\n      <td>Never-married</td>\n      <td>Adm-clerical</td>\n      <td>Not-in-family</td>\n      <td>White</td>\n      <td>Male</td>\n      <td>2174</td>\n      <td>0</td>\n      <td>40</td>\n      <td>United-States</td>\n      <td>&lt;=50K</td>\n    </tr>\n    <tr>\n      <th>1</th>\n      <td>50</td>\n      <td>Self-emp-not-inc</td>\n      <td>83311</td>\n      <td>Bachelors</td>\n      <td>13</td>\n      <td>Married-civ-spouse</td>\n      <td>Exec-managerial</td>\n      <td>Husband</td>\n      <td>White</td>\n      <td>Male</td>\n      <td>0</td>\n      <td>0</td>\n      <td>13</td>\n      <td>United-States</td>\n      <td>&lt;=50K</td>\n    </tr>\n    <tr>\n      <th>2</th>\n      <td>38</td>\n      <td>Private</td>\n      <td>215646</td>\n      <td>HS-grad</td>\n      <td>9</td>\n      <td>Divorced</td>\n      <td>Handlers-cleaners</td>\n      <td>Not-in-family</td>\n      <td>White</td>\n      <td>Male</td>\n      <td>0</td>\n      <td>0</td>\n      <td>40</td>\n      <td>United-States</td>\n      <td>&lt;=50K</td>\n    </tr>\n    <tr>\n      <th>3</th>\n      <td>53</td>\n      <td>Private</td>\n      <td>234721</td>\n      <td>11th</td>\n      <td>7</td>\n      <td>Married-civ-spouse</td>\n      <td>Handlers-cleaners</td>\n      <td>Husband</td>\n      <td>Black</td>\n      <td>Male</td>\n      <td>0</td>\n      <td>0</td>\n      <td>40</td>\n      <td>United-States</td>\n      <td>&lt;=50K</td>\n    </tr>\n    <tr>\n      <th>4</th>\n      <td>28</td>\n      <td>Private</td>\n      <td>338409</td>\n      <td>Bachelors</td>\n      <td>13</td>\n      <td>Married-civ-spouse</td>\n      <td>Prof-specialty</td>\n      <td>Wife</td>\n      <td>Black</td>\n      <td>Female</td>\n      <td>0</td>\n      <td>0</td>\n      <td>40</td>\n      <td>Cuba</td>\n      <td>&lt;=50K</td>\n    </tr>\n  </tbody>\n</table>\n</div>"
     },
     "metadata": {},
     "execution_count": 1
    }
   ],
   "source": [
    "# Task 1\n",
    "import pandas as pd\n",
    "import numpy as np\n",
    "\n",
    "# URL for the dataset\n",
    "data_url = 'https://archive.ics.uci.edu/ml/machine-learning-databases/adult/adult.data'\n",
    "\n",
    "# YOUR CODE HERE\n",
    "column_headers = ['age', 'workclass', 'fnlwgt', 'education', 'education-num', 'marital-status', 'occupation', 'relationship', 'race', 'sex', 'capital-gain', 'capital-loss', 'hours-per-week','native-country', 'income']\n",
    "adult = pd.read_csv(data_url, names=column_headers)\n",
    "# Print out your DataFrame\n",
    "adult.head()"
   ]
  },
  {
   "cell_type": "markdown",
   "metadata": {
    "id": "ft9Q-xAzLZiw"
   },
   "source": [
    "**Task 1 Test**"
   ]
  },
  {
   "cell_type": "code",
   "execution_count": 2,
   "metadata": {
    "deletable": false,
    "editable": false,
    "id": "Sc50B74_LZiw",
    "nbgrader": {
     "cell_type": "code",
     "checksum": "28ac2e9f1ad52f4fc6a7ca6e281297ad",
     "grade": true,
     "grade_id": "cell-6593303164ade3dd",
     "locked": true,
     "points": 1,
     "schema_version": 3,
     "solution": false,
     "task": false
    }
   },
   "outputs": [],
   "source": [
    "# Task 1 - Test\n",
    "\n",
    "# These tests are for you to check your work before submitting\n",
    "assert isinstance(column_headers, list), 'Have you created a list of header names?'\n",
    "assert len(column_headers) == 15, 'Did you include the correct number of items in the column_headers list?'\n",
    "assert isinstance(adult, pd.DataFrame), 'Have you created a DataFrame named adult?'\n",
    "\n",
    "# These tests will be completed when you submit your notebook for autograding"
   ]
  },
  {
   "cell_type": "markdown",
   "metadata": {
    "id": "HSsStMHQ5x3B"
   },
   "source": [
    "**Task 2** - Look at the first and last rows of the DataFrame\n",
    "\n",
    "* Assign the first **ten (10)** rows of the `adult` DataFrame to `adult_head`\n",
    "* Assign the last **ten (10)** rows of the `adult` DataFrame to `adult_tail`"
   ]
  },
  {
   "cell_type": "code",
   "execution_count": 3,
   "metadata": {
    "deletable": false,
    "id": "MRxFDeCAXyTI",
    "nbgrader": {
     "cell_type": "code",
     "checksum": "630f5267044f54fe20c15b50b0259932",
     "grade": false,
     "grade_id": "cell-a9fb33ec1c6025a8",
     "locked": false,
     "schema_version": 3,
     "solution": true,
     "task": false
    }
   },
   "outputs": [],
   "source": [
    "# Task 2\n",
    "\n",
    "# YOUR CODE HERE\n",
    "adult_head = adult.head(10)\n",
    "adult_tail = adult.tail(10)\n",
    "\n",
    "# Optional: print out adult_head and adult_tail"
   ]
  },
  {
   "cell_type": "markdown",
   "metadata": {
    "id": "EZbOaV38LZix"
   },
   "source": [
    "**Task 2 Test**"
   ]
  },
  {
   "cell_type": "code",
   "execution_count": 4,
   "metadata": {
    "deletable": false,
    "editable": false,
    "id": "dXGrhWAcLZix",
    "nbgrader": {
     "cell_type": "code",
     "checksum": "853ce4176ae6cde6d695718dc81cbc33",
     "grade": true,
     "grade_id": "cell-db111c4de2805de2",
     "locked": true,
     "points": 1,
     "schema_version": 3,
     "solution": false,
     "task": false
    }
   },
   "outputs": [],
   "source": [
    "# Task 2 - Test\n",
    "\n",
    "# These tests are for you to check your work before submitting\n",
    "assert isinstance(adult_head, pd.DataFrame), 'Have you created a DataFrame named adult_head?'\n",
    "assert isinstance(adult_tail, pd.DataFrame), 'Have you created a DataFrame named adult_tail?'\n",
    "\n",
    "# These tests will be completed when you submit your notebook for autograding"
   ]
  },
  {
   "cell_type": "markdown",
   "metadata": {
    "id": "oMYl6Og4baK-"
   },
   "source": [
    "**Task 3** - Variable data types\n",
    "\n",
    "For your `adult` DataFrame, determine the data types for the variables.\n",
    "\n",
    "* Count the number of `int64` variable types and assign to `number_int64` (your value should be an integer)\n",
    "* Count the number of `object` variable types and assign to `number_object` (your value should be an integer)\n",
    "\n",
    "There are different ways to find the data types of the columns in a DataFrame. All you need to do for this task is to count the number of each data type and assign to the corresponding variable."
   ]
  },
  {
   "cell_type": "code",
   "execution_count": 13,
   "metadata": {},
   "outputs": [
    {
     "output_type": "stream",
     "name": "stdout",
     "text": [
      "Help on method info in module pandas.core.frame:\n\ninfo(verbose: 'bool | None' = None, buf: 'IO[str] | None' = None, max_cols: 'int | None' = None, memory_usage: 'bool | str | None' = None, show_counts: 'bool | None' = None, null_counts: 'bool | None' = None) -> 'None' method of pandas.core.frame.DataFrame instance\n    Print a concise summary of a DataFrame.\n    \n    This method prints information about a DataFrame including\n    the index dtype and columns, non-null values and memory usage.\n    \n    Parameters\n    ----------\n    data : DataFrame\n        DataFrame to print information about.\n    verbose : bool, optional\n        Whether to print the full summary. By default, the setting in\n        ``pandas.options.display.max_info_columns`` is followed.\n    buf : writable buffer, defaults to sys.stdout\n        Where to send the output. By default, the output is printed to\n        sys.stdout. Pass a writable buffer if you need to further process\n        the output.\n    max_cols : int, optional\n        When to switch from the verbose to the truncated output. If the\n        DataFrame has more than `max_cols` columns, the truncated output\n        is used. By default, the setting in\n        ``pandas.options.display.max_info_columns`` is used.\n    memory_usage : bool, str, optional\n        Specifies whether total memory usage of the DataFrame\n        elements (including the index) should be displayed. By default,\n        this follows the ``pandas.options.display.memory_usage`` setting.\n    \n        True always show memory usage. False never shows memory usage.\n        A value of 'deep' is equivalent to \"True with deep introspection\".\n        Memory usage is shown in human-readable units (base-2\n        representation). Without deep introspection a memory estimation is\n        made based in column dtype and number of rows assuming values\n        consume the same memory amount for corresponding dtypes. With deep\n        memory introspection, a real memory usage calculation is performed\n        at the cost of computational resources.\n    show_counts : bool, optional\n        Whether to show the non-null counts. By default, this is shown\n        only if the DataFrame is smaller than\n        ``pandas.options.display.max_info_rows`` and\n        ``pandas.options.display.max_info_columns``. A value of True always\n        shows the counts, and False never shows the counts.\n    null_counts : bool, optional\n        .. deprecated:: 1.2.0\n            Use show_counts instead.\n    \n    Returns\n    -------\n    None\n        This method prints a summary of a DataFrame and returns None.\n    \n    See Also\n    --------\n    DataFrame.describe: Generate descriptive statistics of DataFrame\n        columns.\n    DataFrame.memory_usage: Memory usage of DataFrame columns.\n    \n    Examples\n    --------\n    >>> int_values = [1, 2, 3, 4, 5]\n    >>> text_values = ['alpha', 'beta', 'gamma', 'delta', 'epsilon']\n    >>> float_values = [0.0, 0.25, 0.5, 0.75, 1.0]\n    >>> df = pd.DataFrame({\"int_col\": int_values, \"text_col\": text_values,\n    ...                   \"float_col\": float_values})\n    >>> df\n        int_col text_col  float_col\n    0        1    alpha       0.00\n    1        2     beta       0.25\n    2        3    gamma       0.50\n    3        4    delta       0.75\n    4        5  epsilon       1.00\n    \n    Prints information of all columns:\n    \n    >>> df.info(verbose=True)\n    <class 'pandas.core.frame.DataFrame'>\n    RangeIndex: 5 entries, 0 to 4\n    Data columns (total 3 columns):\n     #   Column     Non-Null Count  Dtype\n    ---  ------     --------------  -----\n     0   int_col    5 non-null      int64\n     1   text_col   5 non-null      object\n     2   float_col  5 non-null      float64\n    dtypes: float64(1), int64(1), object(1)\n    memory usage: 248.0+ bytes\n    \n    Prints a summary of columns count and its dtypes but not per column\n    information:\n    \n    >>> df.info(verbose=False)\n    <class 'pandas.core.frame.DataFrame'>\n    RangeIndex: 5 entries, 0 to 4\n    Columns: 3 entries, int_col to float_col\n    dtypes: float64(1), int64(1), object(1)\n    memory usage: 248.0+ bytes\n    \n    Pipe output of DataFrame.info to buffer instead of sys.stdout, get\n    buffer content and writes to a text file:\n    \n    >>> import io\n    >>> buffer = io.StringIO()\n    >>> df.info(buf=buffer)\n    >>> s = buffer.getvalue()\n    >>> with open(\"df_info.txt\", \"w\",\n    ...           encoding=\"utf-8\") as f:  # doctest: +SKIP\n    ...     f.write(s)\n    260\n    \n    The `memory_usage` parameter allows deep introspection mode, specially\n    useful for big DataFrames and fine-tune memory optimization:\n    \n    >>> random_strings_array = np.random.choice(['a', 'b', 'c'], 10 ** 6)\n    >>> df = pd.DataFrame({\n    ...     'column_1': np.random.choice(['a', 'b', 'c'], 10 ** 6),\n    ...     'column_2': np.random.choice(['a', 'b', 'c'], 10 ** 6),\n    ...     'column_3': np.random.choice(['a', 'b', 'c'], 10 ** 6)\n    ... })\n    >>> df.info()\n    <class 'pandas.core.frame.DataFrame'>\n    RangeIndex: 1000000 entries, 0 to 999999\n    Data columns (total 3 columns):\n     #   Column    Non-Null Count    Dtype\n    ---  ------    --------------    -----\n     0   column_1  1000000 non-null  object\n     1   column_2  1000000 non-null  object\n     2   column_3  1000000 non-null  object\n    dtypes: object(3)\n    memory usage: 22.9+ MB\n    \n    >>> df.info(memory_usage='deep')\n    <class 'pandas.core.frame.DataFrame'>\n    RangeIndex: 1000000 entries, 0 to 999999\n    Data columns (total 3 columns):\n     #   Column    Non-Null Count    Dtype\n    ---  ------    --------------    -----\n     0   column_1  1000000 non-null  object\n     1   column_2  1000000 non-null  object\n     2   column_3  1000000 non-null  object\n    dtypes: object(3)\n    memory usage: 165.9 MB\n\n"
     ]
    }
   ],
   "source": [
    "help(adult.info)"
   ]
  },
  {
   "cell_type": "code",
   "execution_count": 23,
   "metadata": {
    "deletable": false,
    "id": "0awSPnZ6bc2L",
    "nbgrader": {
     "cell_type": "code",
     "checksum": "11a54a43888fa697e08bce22de67bed1",
     "grade": false,
     "grade_id": "cell-340508752abebcbf",
     "locked": false,
     "schema_version": 3,
     "solution": true,
     "task": false
    }
   },
   "outputs": [
    {
     "output_type": "stream",
     "name": "stdout",
     "text": [
      "<class 'pandas.core.frame.DataFrame'>\nRangeIndex: 32561 entries, 0 to 32560\nData columns (total 15 columns):\n #   Column          Non-Null Count  Dtype \n---  ------          --------------  ----- \n 0   age             32561 non-null  int64 \n 1   workclass       32561 non-null  object\n 2   fnlwgt          32561 non-null  int64 \n 3   education       32561 non-null  object\n 4   education-num   32561 non-null  int64 \n 5   marital-status  32561 non-null  object\n 6   occupation      32561 non-null  object\n 7   relationship    32561 non-null  object\n 8   race            32561 non-null  object\n 9   sex             32561 non-null  object\n 10  capital-gain    32561 non-null  int64 \n 11  capital-loss    32561 non-null  int64 \n 12  hours-per-week  32561 non-null  int64 \n 13  native-country  32561 non-null  object\n 14  income          32561 non-null  object\ndtypes: int64(6), object(9)\nmemory usage: 3.7+ MB\n"
     ]
    }
   ],
   "source": [
    "# Task 3\n",
    "\n",
    "# YOUR CODE HERE\n",
    "#adult.info(verbose=True)  #default\n",
    "adult.info(show_counts=True) # at bottom -> dtypes: int64(6), object(9) Also default!\n",
    "#adult.dtypes # No total. No parenthesis\n"
   ]
  },
  {
   "cell_type": "markdown",
   "metadata": {
    "id": "sUgvOtBELZiy"
   },
   "source": [
    "**Task 3 Test**"
   ]
  },
  {
   "cell_type": "code",
   "execution_count": 24,
   "metadata": {
    "deletable": false,
    "editable": false,
    "id": "vabkw4HtLZiy",
    "nbgrader": {
     "cell_type": "code",
     "checksum": "7a7b195b66ad8a22d3681aa4b2ceccb2",
     "grade": true,
     "grade_id": "cell-05ba0ce5673511d6",
     "locked": true,
     "points": 1,
     "schema_version": 3,
     "solution": false,
     "task": false
    }
   },
   "outputs": [],
   "source": [
    "# Task 3 - Test\n",
    "\n",
    "# Hidden tests - you will see the results when you submit to Canvas"
   ]
  },
  {
   "cell_type": "markdown",
   "metadata": {
    "id": "H58VKvI8bjS1"
   },
   "source": [
    "**Task 4** - DataFrame dimensions\n",
    "\n",
    "* Find the dimensions of your DataFrame and assign result to the variable `adult_dimension`. Your variable should be a *tuple* and the row dimension should be listed first.\n",
    "\n",
    "Hint: A tuple looks like this: (1, 2) - a tuple is a collection which is ordered and unchangeable. You can use the function `type(your_variable)` to print the variable type.\n",
    "\n",
    "Hint 2: The `shape` method returns a tuple - convenient!"
   ]
  },
  {
   "cell_type": "code",
   "execution_count": 26,
   "metadata": {
    "colab": {
     "base_uri": "https://localhost:8080/",
     "height": 34
    },
    "deletable": false,
    "id": "ket3F7EAbt75",
    "nbgrader": {
     "cell_type": "code",
     "checksum": "9d93962a691a70cbac5f46a4f974bcd7",
     "grade": false,
     "grade_id": "cell-d70ccb5657fd3d7b",
     "locked": false,
     "schema_version": 3,
     "solution": true,
     "task": false
    },
    "outputId": "1ebdbb65-648a-4929-fa02-965bf14d70ee"
   },
   "outputs": [
    {
     "output_type": "stream",
     "name": "stdout",
     "text": [
      "(32561, 15)\n"
     ]
    }
   ],
   "source": [
    "# Task 4\n",
    "\n",
    "# YOUR CODE HERE\n",
    "adult_dimension = adult.shape  # no parenthesis\n",
    "\n",
    "# Print out the shape\n",
    "print(adult_dimension)"
   ]
  },
  {
   "cell_type": "markdown",
   "metadata": {
    "id": "y4loyfwyLZiz"
   },
   "source": [
    "**Task 4 Test**"
   ]
  },
  {
   "cell_type": "code",
   "execution_count": 27,
   "metadata": {
    "deletable": false,
    "editable": false,
    "id": "W6XASDsmLZiz",
    "nbgrader": {
     "cell_type": "code",
     "checksum": "f3efac82e36e9c6bf916132239c75cd2",
     "grade": true,
     "grade_id": "cell-6826bc35a7f56e9d",
     "locked": true,
     "points": 1,
     "schema_version": 3,
     "solution": false,
     "task": false
    }
   },
   "outputs": [],
   "source": [
    "# Task 4 - Test\n",
    "\n",
    "assert isinstance(adult_dimension, tuple), 'Have you created a tuple named adult_dimension?'\n",
    "\n",
    "# Hidden tests - you will see the results when you submit to Canvas"
   ]
  },
  {
   "cell_type": "markdown",
   "metadata": {
    "id": "myXXrct79tMI"
   },
   "source": [
    "**Task 5** - Missing values\n",
    "\n",
    "Are there any missing values in the dataset? Let's check!\n",
    "\n",
    "* Check for missing values using `.isnull().sum()`\n",
    "* Count the number of missing values and assign the value to the variable `adult_missing`. Your variable should be an integer."
   ]
  },
  {
   "cell_type": "code",
   "execution_count": 30,
   "metadata": {
    "colab": {
     "base_uri": "https://localhost:8080/",
     "height": 289
    },
    "deletable": false,
    "id": "fBCiVy7r-WlX",
    "nbgrader": {
     "cell_type": "code",
     "checksum": "17aaa9ca4205aa42e35066d21dc5d1f6",
     "grade": false,
     "grade_id": "cell-061626ea17d6ee51",
     "locked": false,
     "schema_version": 3,
     "solution": true,
     "task": false
    },
    "outputId": "524fb664-2050-4319-c65a-b29af9057098"
   },
   "outputs": [],
   "source": [
    "# Task 5\n",
    "\n",
    "# YOUR CODE HERE\n",
    "adult_missing = adult.isnull().sum().sum() # All with parenthesis!"
   ]
  },
  {
   "cell_type": "markdown",
   "metadata": {
    "id": "p7tnZZ69LZi0"
   },
   "source": [
    "**Task 5 Test**"
   ]
  },
  {
   "cell_type": "code",
   "execution_count": 31,
   "metadata": {
    "deletable": false,
    "editable": false,
    "id": "E5OILknTLZi0",
    "nbgrader": {
     "cell_type": "code",
     "checksum": "5620fd488a79367dcab9c416a257e340",
     "grade": true,
     "grade_id": "cell-fa29b69831f8efb7",
     "locked": true,
     "points": 1,
     "schema_version": 3,
     "solution": false,
     "task": false
    }
   },
   "outputs": [],
   "source": [
    "# Task 5 - Test\n",
    "\n",
    "# Hidden tests - you will see the results when you submit to Canvas"
   ]
  },
  {
   "cell_type": "markdown",
   "metadata": {
    "id": "1LCvfKCaCuf_"
   },
   "source": [
    "**Task 6** - Viewing DataFrame statistics\n",
    "\n",
    "Let's look at some of the *summary statistics* of our dataset. We can use the .describe() function in order to see the summary statistics of the numeric columns.\n",
    "\n",
    "Look at the statistics for the `adult` DataFrame and then complete the following two tasks:\n",
    "\n",
    "* Find the value for the mean `age` and assign it to the variable `mean_age` (your value should be a float and defined to two decimal places)\n",
    "* Find the standard deviation (std) for the `hours-per-week` variable and assign it to `std_hpw` (your value should be a float and defined to two decimal places)\n",
    "\n",
    "Are there any values shown that might be a code for missing data?  We'll learn how to change the values in a DataFrame in the next module."
   ]
  },
  {
   "cell_type": "code",
   "execution_count": 44,
   "metadata": {
    "deletable": false,
    "id": "V_9FGaBLBAu5",
    "nbgrader": {
     "cell_type": "code",
     "checksum": "c144574a7792a82c7b358d2c587ae554",
     "grade": false,
     "grade_id": "cell-379c9d6a1454cb65",
     "locked": false,
     "schema_version": 3,
     "solution": true,
     "task": false
    }
   },
   "outputs": [],
   "source": [
    "# Task 6\n",
    "\n",
    "# YOUR CODE HERE\n",
    "# adult.describe()\n",
    "mean_age = adult.age.mean().round(2)\n",
    "std_hpw = adult['hours-per-week'].std().round(2)  # Dashes must be in bracket notation!!\n"
   ]
  },
  {
   "cell_type": "markdown",
   "metadata": {
    "id": "tanljwt8LZi1"
   },
   "source": [
    "**Task 6 Test**"
   ]
  },
  {
   "cell_type": "code",
   "execution_count": 45,
   "metadata": {
    "deletable": false,
    "editable": false,
    "id": "vrQt_sUYLZi1",
    "nbgrader": {
     "cell_type": "code",
     "checksum": "53e593b3d00981adf5f754fe663e8ca1",
     "grade": true,
     "grade_id": "cell-26b21a59dd35ddb1",
     "locked": true,
     "points": 1,
     "schema_version": 3,
     "solution": false,
     "task": false
    }
   },
   "outputs": [],
   "source": [
    "# Task 6 - Test\n",
    "\n",
    "# Hidden tests - you will see the results when you submit to Canvas"
   ]
  },
  {
   "cell_type": "markdown",
   "metadata": {
    "id": "n_rcgbaqcleU"
   },
   "source": [
    "**Task 7** - Summary statistics for non-numeric columns\n",
    "\n",
    "We have some columns in this dataset that are non-numeric or object columns. This is usually a string object. Let's use the `describe()` function again but include the argument `exclude='number'` to exclude the numeric columns.\n",
    "\n",
    "Using the results of `describe(exclude='number')`, complete the following two tasks:\n",
    "\n",
    "* Find the number of unique `education` values and assign it to `unique_edu` (your value should be an integer)\n",
    "* Find the number of times the most frequent observation for `income` occurs and assign it to `freq_income` (your value should be an integer) *(Note: this is not the income value itself, just how many times it occurs)*"
   ]
  },
  {
   "cell_type": "code",
   "execution_count": 47,
   "metadata": {
    "deletable": false,
    "id": "7r5vSLiFLZi1",
    "nbgrader": {
     "cell_type": "code",
     "checksum": "32f8baa85099a4a3a83d7764f0fc759a",
     "grade": false,
     "grade_id": "cell-11915c7656419ee3",
     "locked": false,
     "schema_version": 3,
     "solution": true,
     "task": false
    }
   },
   "outputs": [
    {
     "output_type": "execute_result",
     "data": {
      "text/plain": [
       "       workclass education       marital-status       occupation relationship  \\\n",
       "count      32561     32561                32561            32561        32561   \n",
       "unique         9        16                    7               15            6   \n",
       "top      Private   HS-grad   Married-civ-spouse   Prof-specialty      Husband   \n",
       "freq       22696     10501                14976             4140        13193   \n",
       "\n",
       "          race    sex  native-country  income  \n",
       "count    32561  32561           32561   32561  \n",
       "unique       5      2              42       2  \n",
       "top      White   Male   United-States   <=50K  \n",
       "freq     27816  21790           29170   24720  "
      ],
      "text/html": "<div>\n<style scoped>\n    .dataframe tbody tr th:only-of-type {\n        vertical-align: middle;\n    }\n\n    .dataframe tbody tr th {\n        vertical-align: top;\n    }\n\n    .dataframe thead th {\n        text-align: right;\n    }\n</style>\n<table border=\"1\" class=\"dataframe\">\n  <thead>\n    <tr style=\"text-align: right;\">\n      <th></th>\n      <th>workclass</th>\n      <th>education</th>\n      <th>marital-status</th>\n      <th>occupation</th>\n      <th>relationship</th>\n      <th>race</th>\n      <th>sex</th>\n      <th>native-country</th>\n      <th>income</th>\n    </tr>\n  </thead>\n  <tbody>\n    <tr>\n      <th>count</th>\n      <td>32561</td>\n      <td>32561</td>\n      <td>32561</td>\n      <td>32561</td>\n      <td>32561</td>\n      <td>32561</td>\n      <td>32561</td>\n      <td>32561</td>\n      <td>32561</td>\n    </tr>\n    <tr>\n      <th>unique</th>\n      <td>9</td>\n      <td>16</td>\n      <td>7</td>\n      <td>15</td>\n      <td>6</td>\n      <td>5</td>\n      <td>2</td>\n      <td>42</td>\n      <td>2</td>\n    </tr>\n    <tr>\n      <th>top</th>\n      <td>Private</td>\n      <td>HS-grad</td>\n      <td>Married-civ-spouse</td>\n      <td>Prof-specialty</td>\n      <td>Husband</td>\n      <td>White</td>\n      <td>Male</td>\n      <td>United-States</td>\n      <td>&lt;=50K</td>\n    </tr>\n    <tr>\n      <th>freq</th>\n      <td>22696</td>\n      <td>10501</td>\n      <td>14976</td>\n      <td>4140</td>\n      <td>13193</td>\n      <td>27816</td>\n      <td>21790</td>\n      <td>29170</td>\n      <td>24720</td>\n    </tr>\n  </tbody>\n</table>\n</div>"
     },
     "metadata": {},
     "execution_count": 47
    }
   ],
   "source": [
    "# Task 7\n",
    "\n",
    "# YOUR CODE HERE\n",
    "adult.describe(exclude='number')  # Number must be in quotes!!\n"
   ]
  },
  {
   "cell_type": "code",
   "execution_count": 80,
   "metadata": {},
   "outputs": [
    {
     "output_type": "execute_result",
     "data": {
      "text/plain": [
       "0     <=50K\n",
       "1     <=50K\n",
       "2     <=50K\n",
       "3     <=50K\n",
       "4     <=50K\n",
       "5     <=50K\n",
       "6     <=50K\n",
       "7      >50K\n",
       "8      >50K\n",
       "9      >50K\n",
       "Name: income, dtype: object"
      ]
     },
     "metadata": {},
     "execution_count": 80
    }
   ],
   "source": [
    "#unique_edu = adult.education.nunique()  # Not unique! N means number.\n",
    "# freq_income = adult.income.mode()\n",
    "#freq_income = adult.income.mode\n",
    "freq_income = adult['income'].value_counts()[0]  # The zero takes the first number!!!\n",
    "freq_income\n",
    "adult.income.head(10)"
   ]
  },
  {
   "cell_type": "code",
   "execution_count": 77,
   "metadata": {
    "id": "3jpwj3OXLZi1",
    "outputId": "52d62863-0afe-4b24-b176-f9f07e71f23c"
   },
   "outputs": [
    {
     "output_type": "execute_result",
     "data": {
      "text/plain": [
       "       workclass education       marital-status       occupation relationship  \\\n",
       "count      32561     32561                32561            32561        32561   \n",
       "unique         9        16                    7               15            6   \n",
       "top      Private   HS-grad   Married-civ-spouse   Prof-specialty      Husband   \n",
       "freq       22696     10501                14976             4140        13193   \n",
       "\n",
       "          race    sex  native-country  income  \n",
       "count    32561  32561           32561   32561  \n",
       "unique       5      2              42       2  \n",
       "top      White   Male   United-States   <=50K  \n",
       "freq     27816  21790           29170   24720  "
      ],
      "text/html": "<div>\n<style scoped>\n    .dataframe tbody tr th:only-of-type {\n        vertical-align: middle;\n    }\n\n    .dataframe tbody tr th {\n        vertical-align: top;\n    }\n\n    .dataframe thead th {\n        text-align: right;\n    }\n</style>\n<table border=\"1\" class=\"dataframe\">\n  <thead>\n    <tr style=\"text-align: right;\">\n      <th></th>\n      <th>workclass</th>\n      <th>education</th>\n      <th>marital-status</th>\n      <th>occupation</th>\n      <th>relationship</th>\n      <th>race</th>\n      <th>sex</th>\n      <th>native-country</th>\n      <th>income</th>\n    </tr>\n  </thead>\n  <tbody>\n    <tr>\n      <th>count</th>\n      <td>32561</td>\n      <td>32561</td>\n      <td>32561</td>\n      <td>32561</td>\n      <td>32561</td>\n      <td>32561</td>\n      <td>32561</td>\n      <td>32561</td>\n      <td>32561</td>\n    </tr>\n    <tr>\n      <th>unique</th>\n      <td>9</td>\n      <td>16</td>\n      <td>7</td>\n      <td>15</td>\n      <td>6</td>\n      <td>5</td>\n      <td>2</td>\n      <td>42</td>\n      <td>2</td>\n    </tr>\n    <tr>\n      <th>top</th>\n      <td>Private</td>\n      <td>HS-grad</td>\n      <td>Married-civ-spouse</td>\n      <td>Prof-specialty</td>\n      <td>Husband</td>\n      <td>White</td>\n      <td>Male</td>\n      <td>United-States</td>\n      <td>&lt;=50K</td>\n    </tr>\n    <tr>\n      <th>freq</th>\n      <td>22696</td>\n      <td>10501</td>\n      <td>14976</td>\n      <td>4140</td>\n      <td>13193</td>\n      <td>27816</td>\n      <td>21790</td>\n      <td>29170</td>\n      <td>24720</td>\n    </tr>\n  </tbody>\n</table>\n</div>"
     },
     "metadata": {},
     "execution_count": 77
    }
   ],
   "source": [
    "adult.describe(exclude='number')\n"
   ]
  },
  {
   "cell_type": "markdown",
   "metadata": {
    "id": "NjgWfu1LLZi2"
   },
   "source": [
    "**Task 7 Test**"
   ]
  },
  {
   "cell_type": "code",
   "execution_count": 81,
   "metadata": {
    "deletable": false,
    "editable": false,
    "id": "-NIhI-yzLZi2",
    "nbgrader": {
     "cell_type": "code",
     "checksum": "0e5f56f06249a66c475f8c46f0b07a7d",
     "grade": true,
     "grade_id": "cell-00ef7970684097e5",
     "locked": true,
     "points": 1,
     "schema_version": 3,
     "solution": false,
     "task": false
    }
   },
   "outputs": [],
   "source": [
    "# Task 7 - Test\n",
    "\n",
    "# Hidden tests - you will see the results when you submit to Canvas"
   ]
  },
  {
   "cell_type": "markdown",
   "metadata": {
    "id": "o_E_rvFUdP8O"
   },
   "source": [
    "**Task 8** - Finding value counts\n",
    "\n",
    "Let's look more specifically at the `relationship` column and perform a count of the number of observations for each category. We can see how many categories we have by using the `.unique()` method on the column. Then, we can use `.value_counts()` to count the number of observations in each category.\n",
    "\n",
    "* View the unique values in the `relationship` column with `.unique()`\n",
    "* View the number of observations for each value with `.value_counts()`\n",
    "* Find the counts for `Other-relative` and assign to the variable `adult_other_rel`"
   ]
  },
  {
   "cell_type": "code",
   "execution_count": 87,
   "metadata": {
    "deletable": false,
    "id": "dpz5fUqJdTE_",
    "nbgrader": {
     "cell_type": "code",
     "checksum": "3b0477bc8586b6d06b246aa34c18b907",
     "grade": false,
     "grade_id": "cell-2498319aac6c6e38",
     "locked": false,
     "schema_version": 3,
     "solution": true,
     "task": false
    }
   },
   "outputs": [
    {
     "output_type": "execute_result",
     "data": {
      "text/plain": [
       "981"
      ]
     },
     "metadata": {},
     "execution_count": 87
    }
   ],
   "source": [
    "# Task 8\n",
    "\n",
    "# YOUR CODE HERE\n",
    "adult.relationship.unique()\n",
    "# array([' Not-in-family', ' Husband', ' Wife', ' Own-child', ' Unmarried',\n",
    "#        ' Other-relative'], dtype=object)\n",
    "adult.relationship.value_counts()\n",
    "adult_other_rel = adult['relationship'].value_counts()[' Other-relative'] # I didnt know this!!\n",
    "adult_other_rel"
   ]
  },
  {
   "cell_type": "markdown",
   "metadata": {
    "id": "UIJlTYx3LZi2"
   },
   "source": [
    "**Task 8 Test**"
   ]
  },
  {
   "cell_type": "code",
   "execution_count": 88,
   "metadata": {
    "deletable": false,
    "editable": false,
    "id": "QLrTwSEGLZi2",
    "nbgrader": {
     "cell_type": "code",
     "checksum": "b37410acc6d088ec026cdf4a726d72ad",
     "grade": true,
     "grade_id": "cell-ee00a51b05f5cc8e",
     "locked": true,
     "points": 1,
     "schema_version": 3,
     "solution": false,
     "task": false
    }
   },
   "outputs": [],
   "source": [
    "# Task 8 - Test\n",
    "\n",
    "# Hidden tests - you will see the results when you submit to Canvas"
   ]
  },
  {
   "cell_type": "markdown",
   "metadata": {
    "id": "ZEs60bkrdnsU"
   },
   "source": [
    "**Task 9** - Create a Series\n",
    "\n",
    "A column of a DataFrame is a pandas Series. Using the `adult` DataFrame, create a Series from the `occupation` column.\n",
    "\n",
    "* Create a Series from the `occupation` column and name it `adult_occup`"
   ]
  },
  {
   "cell_type": "code",
   "execution_count": 105,
   "metadata": {
    "deletable": false,
    "id": "ydjVZQA3du6l",
    "nbgrader": {
     "cell_type": "code",
     "checksum": "174f626dd82f9e92eb19f1c21e5087fc",
     "grade": false,
     "grade_id": "cell-d1bb196ab00c4bd3",
     "locked": false,
     "schema_version": 3,
     "solution": true,
     "task": false
    }
   },
   "outputs": [
    {
     "output_type": "execute_result",
     "data": {
      "text/plain": [
       "0              Adm-clerical\n",
       "1           Exec-managerial\n",
       "2         Handlers-cleaners\n",
       "3         Handlers-cleaners\n",
       "4            Prof-specialty\n",
       "                ...        \n",
       "32556          Tech-support\n",
       "32557     Machine-op-inspct\n",
       "32558          Adm-clerical\n",
       "32559          Adm-clerical\n",
       "32560       Exec-managerial\n",
       "Name: occupation, Length: 32561, dtype: object"
      ]
     },
     "metadata": {},
     "execution_count": 105
    }
   ],
   "source": [
    "# Task 9\n",
    "\n",
    "# YOUR CODE HERE\n",
    "adult_occup = adult.occupation # Im not sure this is a series.  Pandas Series is a one-dimensional labeled array capable of holding data of any type. This is 2-D. But it works.\n",
    "#adult_occup  = adult.occupation.to_frame().T  # This makes all rows to columns. \n",
    "adult_occup"
   ]
  },
  {
   "cell_type": "markdown",
   "metadata": {
    "id": "ecKFLU6tLZi3"
   },
   "source": [
    "**Task 9 Test**"
   ]
  },
  {
   "cell_type": "code",
   "execution_count": 106,
   "metadata": {
    "deletable": false,
    "editable": false,
    "id": "2RVMSI26LZi3",
    "nbgrader": {
     "cell_type": "code",
     "checksum": "e393fefb046b14831077242eff640471",
     "grade": true,
     "grade_id": "cell-e43fc22d03a71561",
     "locked": true,
     "points": 1,
     "schema_version": 3,
     "solution": false,
     "task": false
    }
   },
   "outputs": [],
   "source": [
    "# Task 9 - Test\n",
    "\n",
    "# These tests are for you to check your work before submitting\n",
    "assert isinstance(adult_occup, pd.Series), 'Have you created the correct Series?'\n",
    "\n",
    "# Hidden tests - you will see the results when you submit to Canvas"
   ]
  },
  {
   "cell_type": "markdown",
   "metadata": {
    "id": "FnOWk3zMOuqz"
   },
   "source": [
    "**Task 10** - Practice with a new dataset\n",
    "\n",
    "Let's use some of what we've learned so far to load in a new dataset and answer some questions. For now, we're going to read in the data from the website where it is stored. But, at the end of this project, you can review the instructions for uploading a file to Google Colab,\n",
    "\n",
    "* Use [this link (right click to copy)](https://raw.githubusercontent.com/LambdaSchool/data-science-practice-datasets/main/unit_1/NASCAR/nascard.csv) as the URL and assign it to the variable `data_url2`\n",
    "* Read in the data into a DataFrame called `nascar`; the CSV already includes a header\n",
    "\n",
    "More information about this data can be found [here](https://github.com/LambdaSchool/data-science-practice-datasets/tree/main/unit_1/NASCAR)."
   ]
  },
  {
   "cell_type": "code",
   "execution_count": 107,
   "metadata": {
    "deletable": false,
    "id": "LHYkMOD3LZi3",
    "nbgrader": {
     "cell_type": "code",
     "checksum": "d240cb09504b19a2e7dd6a5d7a37fbb7",
     "grade": false,
     "grade_id": "cell-04b98cad3de4cab4",
     "locked": false,
     "schema_version": 3,
     "solution": true,
     "task": false
    }
   },
   "outputs": [],
   "source": [
    "# Task 10\n",
    "\n",
    "# YOUR CODE HERE\n",
    "data_url2 = 'https://raw.githubusercontent.com/LambdaSchool/data-science-practice-datasets/main/unit_1/NASCAR/nascard.csv'\n",
    "nascar = pd.read_csv(data_url2)"
   ]
  },
  {
   "cell_type": "markdown",
   "metadata": {
    "id": "ZI65V5uELZi3"
   },
   "source": [
    "**Task 10 Test**"
   ]
  },
  {
   "cell_type": "code",
   "execution_count": 108,
   "metadata": {
    "deletable": false,
    "editable": false,
    "id": "idkyA3OtLZi3",
    "nbgrader": {
     "cell_type": "code",
     "checksum": "3315b366b48374f265a3935c4c2d0ff2",
     "grade": true,
     "grade_id": "cell-8b7550f8a360559b",
     "locked": true,
     "points": 1,
     "schema_version": 3,
     "solution": false,
     "task": false
    }
   },
   "outputs": [],
   "source": [
    "# Task 10 - Test\n",
    "\n",
    "# These tests are for you to check your work before submitting\n",
    "assert isinstance(nascar, pd.DataFrame), 'Have you created the nascar DataFrame?'\n",
    "\n",
    "# Hidden tests - you will see the results when you submit to Canvas"
   ]
  },
  {
   "cell_type": "markdown",
   "metadata": {
    "id": "UzIUMnonLZi4"
   },
   "source": [
    "**Task 11** - Look at the header\n",
    "\n",
    "Now, let's look at the data. We'll use the `.head()` method to view the first rows of the DataFrame\n",
    "\n",
    "* Assign the output from `.head()` to a DataFrame called `nascar_head` (use the default values of the method)"
   ]
  },
  {
   "cell_type": "code",
   "execution_count": 110,
   "metadata": {
    "deletable": false,
    "id": "femoM2VsLZi4",
    "nbgrader": {
     "cell_type": "code",
     "checksum": "339061ac9982b3fd4a659548499dee2b",
     "grade": false,
     "grade_id": "cell-01b2cebe2cab129a",
     "locked": false,
     "schema_version": 3,
     "solution": true,
     "task": false
    }
   },
   "outputs": [],
   "source": [
    "# Task 11\n",
    "\n",
    "# YOUR CODE HERE\n",
    "nascar_head = nascar.head()"
   ]
  },
  {
   "cell_type": "markdown",
   "metadata": {
    "id": "H18GnJtALZi4"
   },
   "source": [
    "**Task 11 Test**"
   ]
  },
  {
   "cell_type": "code",
   "execution_count": 111,
   "metadata": {
    "deletable": false,
    "editable": false,
    "id": "rcV84fUALZi4",
    "nbgrader": {
     "cell_type": "code",
     "checksum": "1c8790f27229d0afe3489d42aba50984",
     "grade": true,
     "grade_id": "cell-4abee0d24322116e",
     "locked": true,
     "points": 1,
     "schema_version": 3,
     "solution": false,
     "task": false
    }
   },
   "outputs": [],
   "source": [
    "# Task 11 - Test\n",
    "\n",
    "# These tests are for you to check your work before submitting\n",
    "assert isinstance(nascar_head, pd.DataFrame), 'Have you created the nascar_head DataFrame?'\n",
    "\n",
    "# Hidden tests - you will see the results when you submit to Canvas"
   ]
  },
  {
   "cell_type": "markdown",
   "metadata": {
    "id": "2U8Jb7BjgVFF"
   },
   "source": [
    "**Task 12** - Dataset description and variable types\n",
    "\n",
    "Using your `nascar` DataFrame, answer the following questions. Remember - you can use methods like `describe()` and `info()` to print out information about the variable types in your DataFrame. Remember, you can use `describe(exclude='number')` to view non-numeric variable types.\n",
    "\n",
    "You can view more information about the data [here](http://users.stat.ufl.edu/~winner/data/nascard.txt).\n",
    "\n",
    "Select the letter indicating which one of the following statements about the features in `nascar` is incorrect?  For example, if statement B is incorrect, you'll type your answer in the code block as `answer = 'B'`\n",
    "\n",
    "\n",
    "A: Each entry for `driver` is a text string\n",
    "\n",
    "B: `carMake` is an identifer variable\n",
    "\n",
    "\n",
    "C: `carsRace` is a quantitative, discrete variable\n",
    "\n",
    "\n",
    "D: `prize` is a quantitative, continuous variable"
   ]
  },
  {
   "cell_type": "code",
   "execution_count": 115,
   "metadata": {
    "deletable": false,
    "nbgrader": {
     "cell_type": "code",
     "checksum": "0b41e05c9dd201ebb5eea984d55a8bf7",
     "grade": false,
     "grade_id": "cell-4452c94a7f85fa40",
     "locked": false,
     "schema_version": 3,
     "solution": true,
     "task": false
    }
   },
   "outputs": [
    {
     "output_type": "execute_result",
     "data": {
      "text/plain": [
       "0        35\n",
       "1        35\n",
       "2        35\n",
       "3        35\n",
       "4        35\n",
       "         ..\n",
       "34879    43\n",
       "34880    43\n",
       "34881    43\n",
       "34882    43\n",
       "34883    43\n",
       "Name: carsRace, Length: 34884, dtype: int64"
      ]
     },
     "metadata": {},
     "execution_count": 115
    }
   ],
   "source": [
    "# Task 12\n",
    "\n",
    "# Ignore the YOUR CODE HERE for this cell\n",
    "# YOUR CODE HERE\n",
    "answer = 'B'\n",
    "# Ignore the YOUR CODE HERE for this cell\n",
    "# YOUR CODE HERE\n",
    "nascar.carsRace"
   ]
  },
  {
   "cell_type": "code",
   "execution_count": null,
   "metadata": {
    "deletable": false,
    "editable": false,
    "nbgrader": {
     "cell_type": "code",
     "checksum": "ccdbd0723fb3e776f088f34d430924b3",
     "grade": true,
     "grade_id": "cell-2673e645b1df248f",
     "locked": true,
     "points": 1,
     "schema_version": 3,
     "solution": false,
     "task": false
    }
   },
   "outputs": [],
   "source": [
    "# Task 12 - Test\n",
    "\n",
    "# Hidden tests - you will see the results when you submit to Canvas"
   ]
  },
  {
   "cell_type": "markdown",
   "metadata": {
    "id": "wxjsuRUOLZi4"
   },
   "source": [
    "**Extra Practice!!**\n",
    "\n",
    "Now we're going to practice loading a dataset that you have saved on your computer. Since we're working in a notebook on Google Colab, you'll need to upload your file to the notebook runtime in order to read in the data.\n",
    "\n",
    "* Use [this link](https://raw.githubusercontent.com/LambdaSchool/data-science-practice-datasets/main/unit_1/NASCAR/nascard.csv) to download your dataset as a csv file to your computer. \n",
    "* Upload to Google Colab one of two ways:\n",
    "    * using `from google.colab import files` then `uploaded = files.upload()`; read in the file with pd.read_csv(filename)\n",
    "    * using the file upload feature in the left side panel of the Colab notebook; read in the file with pd.read_csv(filename)\n",
    "\n",
    "More information about this data can be found [here](https://github.com/LambdaSchool/data-science-practice-datasets/tree/main/unit_1/NASCAR).\n",
    "\n",
    "**DELETE or COMMENT OUT your Colab code**"
   ]
  },
  {
   "cell_type": "code",
   "execution_count": null,
   "metadata": {
    "id": "wE_RCi0AfTrz"
   },
   "outputs": [],
   "source": [
    "# Extra Practice\n",
    "\n",
    "## DELETE OR COMMENT OUT YOUR COLAB CODE BEFORE SUBMITTING THE NOTEBOOK"
   ]
  }
 ],
 "metadata": {
  "colab": {
   "collapsed_sections": [],
   "name": "LS_DS_111_EDA_Assignment_AG.ipynb",
   "provenance": []
  },
  "kernelspec": {
   "name": "python3",
   "display_name": "Python 3.9.6 64-bit"
  },
  "language_info": {
   "codemirror_mode": {
    "name": "ipython",
    "version": 3
   },
   "file_extension": ".py",
   "mimetype": "text/x-python",
   "name": "python",
   "nbconvert_exporter": "python",
   "pygments_lexer": "ipython3",
   "version": "3.9.6"
  },
  "interpreter": {
   "hash": "63fd5069d213b44bf678585dea6b12cceca9941eaf7f819626cde1f2670de90d"
  }
 },
 "nbformat": 4,
 "nbformat_minor": 1
}